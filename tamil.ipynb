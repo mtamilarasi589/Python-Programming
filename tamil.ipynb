{
  "nbformat": 4,
  "nbformat_minor": 0,
  "metadata": {
    "colab": {
      "name": "tamil.ipynb",
      "provenance": [],
      "authorship_tag": "ABX9TyPI5+R3XxL33e++k/hGMygZ",
      "include_colab_link": true
    },
    "kernelspec": {
      "name": "python3",
      "display_name": "Python 3"
    },
    "language_info": {
      "name": "python"
    }
  },
  "cells": [
    {
      "cell_type": "markdown",
      "metadata": {
        "id": "view-in-github",
        "colab_type": "text"
      },
      "source": [
        "<a href=\"https://colab.research.google.com/github/mtamilarasi589/Python-Programming/blob/main/tamil.ipynb\" target=\"_parent\"><img src=\"https://colab.research.google.com/assets/colab-badge.svg\" alt=\"Open In Colab\"/></a>"
      ]
    },
    {
      "cell_type": "code",
      "metadata": {
        "colab": {
          "base_uri": "https://localhost:8080/"
        },
        "id": "XR0re39HgCSW",
        "outputId": "26a629f2-133c-4a98-e2a0-d52763d3d8cc"
      },
      "source": [
        "print(\"hello\")"
      ],
      "execution_count": 1,
      "outputs": [
        {
          "output_type": "stream",
          "text": [
            "hello\n"
          ],
          "name": "stdout"
        }
      ]
    },
    {
      "cell_type": "code",
      "metadata": {
        "colab": {
          "base_uri": "https://localhost:8080/"
        },
        "id": "CUwBr2b_gJuG",
        "outputId": "f5db84a6-6144-468a-f116-cc004c66e3fe"
      },
      "source": [
        "a=2\n",
        "b=5\n",
        "sum=a+b\n",
        "print(sum)"
      ],
      "execution_count": 2,
      "outputs": [
        {
          "output_type": "stream",
          "text": [
            "7\n"
          ],
          "name": "stdout"
        }
      ]
    },
    {
      "cell_type": "code",
      "metadata": {
        "id": "GIvu_u1cgx4V"
      },
      "source": [
        ""
      ],
      "execution_count": null,
      "outputs": []
    },
    {
      "cell_type": "code",
      "metadata": {
        "colab": {
          "base_uri": "https://localhost:8080/"
        },
        "id": "Je3gv9Vrg20A",
        "outputId": "a1da2992-0364-4baf-ce46-27ef0f95b0f0"
      },
      "source": [
        "a=eval(input(\"Enter value of a:\"))\n",
        "b=eval(input(\"Enter value of b:\"))\n",
        "sum=a+b\n",
        "print(sum)"
      ],
      "execution_count": 5,
      "outputs": [
        {
          "output_type": "stream",
          "text": [
            "Enter value of a:11\n",
            "Enter value of b:24\n",
            "35\n"
          ],
          "name": "stdout"
        }
      ]
    }
  ]
}