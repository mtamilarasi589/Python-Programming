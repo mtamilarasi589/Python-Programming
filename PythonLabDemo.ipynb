{
  "nbformat": 4,
  "nbformat_minor": 0,
  "metadata": {
    "colab": {
      "name": "PythonLabDemo.ipynb",
      "provenance": [],
      "authorship_tag": "ABX9TyP7/NYvdeyApHmThLkIma+q",
      "include_colab_link": true
    },
    "kernelspec": {
      "name": "python3",
      "display_name": "Python 3"
    },
    "language_info": {
      "name": "python"
    }
  },
  "cells": [
    {
      "cell_type": "markdown",
      "metadata": {
        "id": "view-in-github",
        "colab_type": "text"
      },
      "source": [
        "<a href=\"https://colab.research.google.com/github/mtamilarasi589/Python-Programming/blob/main/PythonLabDemo.ipynb\" target=\"_parent\"><img src=\"https://colab.research.google.com/assets/colab-badge.svg\" alt=\"Open In Colab\"/></a>"
      ]
    },
    {
      "cell_type": "code",
      "metadata": {
        "colab": {
          "base_uri": "https://localhost:8080/"
        },
        "id": "5nvDSybD2Wm1",
        "outputId": "cbdc2d09-314d-4f1e-e72c-47eab0cce4f9"
      },
      "source": [
        "num1 = input('Enter first number: ')\n",
        "num2 = input('Enter second number: ')\n",
        "\n",
        "# Add two numbers\n",
        "sum = float(num1) + float(num2)\n",
        "\n",
        "# Display the sum\n",
        "print('The sum of {0} and {1} is {2}'.format(num1, num2, sum))  "
      ],
      "execution_count": 1,
      "outputs": [
        {
          "output_type": "stream",
          "text": [
            "Enter first number: 10\n",
            "Enter second number: 20\n",
            "The sum of 10 and 20 is 30.0\n"
          ],
          "name": "stdout"
        }
      ]
    },
    {
      "cell_type": "code",
      "metadata": {
        "colab": {
          "base_uri": "https://localhost:8080/"
        },
        "id": "OcbctIDz4Edr",
        "outputId": "b9cbb1fd-7836-4196-bdd6-531a4794c846"
      },
      "source": [
        "x = eval(input('Enter value of x: '))\n",
        "y = eval(input('Enter value of y: ')) \n",
        "  \n",
        "# create a temporary variable and swap the values  \n",
        "temp = x  \n",
        "x = y  \n",
        "y = temp  \n",
        "  \n",
        "print('The value of x after swapping: {}'.format(x))  \n",
        "print('The value of y after swapping: {}'.format(y))  "
      ],
      "execution_count": 2,
      "outputs": [
        {
          "output_type": "stream",
          "text": [
            "Enter value of x: 4\n",
            "Enter value of y: 8\n",
            "The value of x after swapping: 8\n",
            "The value of y after swapping: 4\n"
          ],
          "name": "stdout"
        }
      ]
    },
    {
      "cell_type": "code",
      "metadata": {
        "colab": {
          "base_uri": "https://localhost:8080/"
        },
        "id": "t5O68VkW4UuA",
        "outputId": "1bb96fd1-e250-4992-dec3-929f7b35c9da"
      },
      "source": [
        "x = eval(input('Enter value of x: '))\n",
        "y = eval(input('Enter value of y: ')) \n",
        "  \n",
        "# swap the values without using temporary variable \n",
        "x,y=y,x \n",
        "  \n",
        "print('After swapping')  \n",
        "print(x) \n",
        "print(y) "
      ],
      "execution_count": 3,
      "outputs": [
        {
          "output_type": "stream",
          "text": [
            "Enter value of x: 3\n",
            "Enter value of y: 6\n",
            "After swapping\n",
            "6\n",
            "3\n"
          ],
          "name": "stdout"
        }
      ]
    },
    {
      "cell_type": "code",
      "metadata": {
        "colab": {
          "base_uri": "https://localhost:8080/"
        },
        "id": "l7EwfRQi4wsY",
        "outputId": "3ca7b61d-6bf9-41b0-9380-3c16556b887e"
      },
      "source": [
        "# Store input numbers:  \n",
        "num1 = input('Enter first number: ')  \n",
        "num2 = input('Enter second number: ')  \n",
        "  \n",
        "# Add two numbers  \n",
        "sum = float(num1) + float(num2)  \n",
        "# Subtract two numbers  \n",
        "min = float(num1) - float(num2)  \n",
        "# Multiply two numbers  \n",
        "mul = float(num1) * float(num2)  \n",
        "#Divide two numbers  \n",
        "div = float(num1) / float(num2)  \n",
        "# Display the sum  \n",
        "print('The sum of {0} and {1} is {2}'.format(num1, num2, sum))  \n",
        "  \n",
        "# Display the subtraction  \n",
        "print('The subtraction of {0} and {1} is {2}'.format(num1, num2, min))  \n",
        "# Display the multiplication  \n",
        "print('The multiplication of {0} and {1} is {2}'.format(num1, num2, mul))  \n",
        "# Display the division  \n",
        "print('The division of {0} and {1} is {2}'.format(num1, num2, div))  "
      ],
      "execution_count": 4,
      "outputs": [
        {
          "output_type": "stream",
          "text": [
            "Enter first number: 10\n",
            "Enter second number: 5\n",
            "The sum of 10 and 5 is 15.0\n",
            "The subtraction of 10 and 5 is 5.0\n",
            "The multiplication of 10 and 5 is 50.0\n",
            "The division of 10 and 5 is 2.0\n"
          ],
          "name": "stdout"
        }
      ]
    },
    {
      "cell_type": "code",
      "metadata": {
        "colab": {
          "base_uri": "https://localhost:8080/"
        },
        "id": "CXLi5yeN69bo",
        "outputId": "786bc353-5161-4e38-fbb5-d886478d0735"
      },
      "source": [
        "c = input(\"Enter a character: \")  \n",
        "print(\"The ASCII value of '\" + c + \"' is\",ord(c)) "
      ],
      "execution_count": 5,
      "outputs": [
        {
          "output_type": "stream",
          "text": [
            "Enter a character: z\n",
            "The ASCII value of 'z' is 122\n"
          ],
          "name": "stdout"
        }
      ]
    }
  ]
}